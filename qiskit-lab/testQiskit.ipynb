{
 "cells": [
  {
   "cell_type": "code",
   "execution_count": 1,
   "metadata": {},
   "outputs": [],
   "source": [
    "import qiskit"
   ]
  },
  {
   "cell_type": "code",
   "execution_count": 2,
   "metadata": {},
   "outputs": [
    {
     "data": {
      "text/plain": [
       "<qiskit.circuit.instructionset.InstructionSet at 0x7f60d6517970>"
      ]
     },
     "execution_count": 2,
     "metadata": {},
     "output_type": "execute_result"
    }
   ],
   "source": [
    "import numpy as np\n",
    "from qiskit import QuantumCircuit\n",
    "\n",
    "# 1. A quantum circuit for preparing the quantum state |000> + i |111> / √2\n",
    "qc = QuantumCircuit(3)\n",
    "qc.h(0)             # generate superposition\n",
    "qc.p(np.pi / 2, 0)  # add quantum phase\n",
    "qc.cx(0, 1)         # 0th-qubit-Controlled-NOT gate on 1st qubit\n",
    "qc.cx(0, 2)         # 0th-qubit-Controlled-NOT gate on 2nd qubit"
   ]
  },
  {
   "cell_type": "code",
   "execution_count": 7,
   "metadata": {},
   "outputs": [
    {
     "name": "stdout",
     "output_type": "stream",
     "text": [
      " > Counts: {'111': 491, '000': 509}\n"
     ]
    }
   ],
   "source": [
    "# 2. Add the classical output in the form of measurement of all qubits\n",
    "qc_measured = qc.measure_all(inplace=False)\n",
    "\n",
    "# 3. Execute using the Sampler primitive\n",
    "from qiskit.primitives import StatevectorSampler\n",
    "sampler = StatevectorSampler()\n",
    "job = sampler.run([qc_measured], shots=1000)\n",
    "result = job.result()\n",
    "print(f\" > Counts: {result[0].data['meas'].get_counts()}\")"
   ]
  }
 ],
 "metadata": {
  "kernelspec": {
   "display_name": "venv",
   "language": "python",
   "name": "python3"
  },
  "language_info": {
   "codemirror_mode": {
    "name": "ipython",
    "version": 3
   },
   "file_extension": ".py",
   "mimetype": "text/x-python",
   "name": "python",
   "nbconvert_exporter": "python",
   "pygments_lexer": "ipython3",
   "version": "3.10.12"
  }
 },
 "nbformat": 4,
 "nbformat_minor": 2
}
